{
  "nbformat": 4,
  "nbformat_minor": 0,
  "metadata": {
    "colab": {
      "name": "GroupAssignment_SoftwareEngineering.ipynb",
      "provenance": [],
      "collapsed_sections": []
    },
    "kernelspec": {
      "name": "python3",
      "display_name": "Python 3"
    },
    "language_info": {
      "name": "python"
    }
  },
  "cells": [
    {
      "cell_type": "code",
      "metadata": {
        "colab": {
          "base_uri": "https://localhost:8080/"
        },
        "id": "V8cMUDKsUmS4",
        "outputId": "e5abbca0-7950-4f1f-be5a-1892400ee9cc"
      },
      "source": [
        "\"\"\"\n",
        "    Function determines odd and even number\n",
        "    Group members: Cindy Zulani & Niken Ayuning Tyas\n",
        "\"\"\"\n",
        "\n",
        "\n",
        "#num() function is to determine if a number is odd or even. this function returns output as odd or even number.\n",
        "def num(a):\n",
        "    if a%2 == 0:\n",
        "        output = \"even number\"\n",
        "    else:\n",
        "        output = \"odd number\"\n",
        "    return output\n",
        "\n",
        "#to take user input\n",
        "a = int(input('Enter the number: '))  \n",
        "output = num(a)  \n",
        "#print if the number that user's input is odd or even\n",
        "print('{} is {}'.format(a,output))\n"
      ],
      "execution_count": 1,
      "outputs": [
        {
          "output_type": "stream",
          "name": "stdout",
          "text": [
            "Enter the number: 3\n",
            "3 is odd number\n"
          ]
        }
      ]
    }
  ]
}